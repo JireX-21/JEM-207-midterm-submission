{
 "cells": [
  {
   "cell_type": "code",
   "execution_count": null,
   "metadata": {},
   "outputs": [],
   "source": [
    "test\n"
   ]
  }
 ],
 "metadata": {
  "kernelspec": {
   "display_name": "Python 3.9.13 ('base')",
   "language": "python",
   "name": "python3"
  },
  "language_info": {
   "name": "python",
   "version": "3.9.13"
  },
  "orig_nbformat": 4,
  "vscode": {
   "interpreter": {
    "hash": "f22cc9c7ef8e0367f88c8581501d556cf01b1c7826982daada53ea8a92b58e33"
   }
  }
 },
 "nbformat": 4,
 "nbformat_minor": 2
}
